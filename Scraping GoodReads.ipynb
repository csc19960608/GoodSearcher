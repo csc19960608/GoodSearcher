{
 "metadata": {
  "name": "",
  "signature": "sha256:4d4dd8f8ab078497940a49652d254a10a99eae3c9459490561605be8aad15c58"
 },
 "nbformat": 3,
 "nbformat_minor": 0,
 "worksheets": [
  {
   "cells": [
    {
     "cell_type": "code",
     "collapsed": false,
     "input": [
      "import binascii,re\n",
      "from __future__ import unicode_literals\n",
      "import urllib\n",
      "from bs4 import BeautifulSoup as bs\n",
      "from prettyprint import pp\n",
      "import codecs\n",
      "from IPython.display import Image, display"
     ],
     "language": "python",
     "metadata": {},
     "outputs": [],
     "prompt_number": 18
    },
    {
     "cell_type": "code",
     "collapsed": false,
     "input": [
      "seed_URL = \"http://www.goodreads.com/book/show/3241368-the-little-prince-letter-to-a-hostage\"\n",
      "other_URL = \"http://www.goodreads.com/book/show/72212.The_Kingdom_by_the_Sea\"\n",
      "another_URL = \"http://www.goodreads.com/book/show/31626.The_Gift_of_the_Magi_and_Other_Short_Stories\"\n",
      "yetanother_URL = \"http://www.goodreads.com/book/show/823068.Shh_We_re_Writing_the_Constitution\"\n",
      "print seed_URL\n",
      "print other_URL\n",
      "print another_URL\n",
      "print yetanother_URL"
     ],
     "language": "python",
     "metadata": {},
     "outputs": [
      {
       "output_type": "stream",
       "stream": "stdout",
       "text": [
        "http://www.goodreads.com/book/show/3241368-the-little-prince-letter-to-a-hostage\n",
        "http://www.goodreads.com/book/show/72212.The_Kingdom_by_the_Sea\n",
        "http://www.goodreads.com/book/show/31626.The_Gift_of_the_Magi_and_Other_Short_Stories\n",
        "http://www.goodreads.com/book/show/823068.Shh_We_re_Writing_the_Constitution\n"
       ]
      }
     ],
     "prompt_number": 10
    },
    {
     "cell_type": "code",
     "collapsed": false,
     "input": [
      "down = urllib.urlopen(seed_URL).read()\n",
      "seed = bs(down.decode('utf-8'))\n",
      "\n",
      "down = urllib.urlopen(other_URL).read()\n",
      "other = bs(down.decode('utf-8'))\n",
      "\n",
      "down = urllib.urlopen(another_URL).read()\n",
      "another = bs(down.decode('utf-8'))\n",
      "\n",
      "down = urllib.urlopen(yetanother_URL).read()\n",
      "yetanother = bs(down.decode('utf-8'))\n",
      "\n",
      "# divbody = soup.find_all(\"div\", \"body\")[0]\n",
      "# divcnt = divbody.find_all(\"div\", \"cnt\")[0]"
     ],
     "language": "python",
     "metadata": {},
     "outputs": [],
     "prompt_number": 11
    },
    {
     "cell_type": "markdown",
     "metadata": {},
     "source": [
      "##First getting the title"
     ]
    },
    {
     "cell_type": "code",
     "collapsed": false,
     "input": [
      "def getTitle(soup):\n",
      "    return soup.find(\"h1\", \"bookTitle\").text.strip()\n",
      "\n",
      "print getTitle(seed)\n",
      "print getTitle(other)\n",
      "print getTitle(another)\n",
      "print getTitle(yetanother)"
     ],
     "language": "python",
     "metadata": {},
     "outputs": [
      {
       "output_type": "stream",
       "stream": "stdout",
       "text": [
        "The Little Prince & Letter to a Hostage\n",
        "The Kingdom by the Sea\n",
        "The Gift of the Magi and Other Short Stories\n",
        "Shh! We're Writing the Constitution\n"
       ]
      }
     ],
     "prompt_number": 12
    },
    {
     "cell_type": "markdown",
     "metadata": {},
     "source": [
      "##Then getting the authors' name"
     ]
    },
    {
     "cell_type": "code",
     "collapsed": false,
     "input": [
      "def getAuthors(soup):\n",
      "    authors = []\n",
      "    au = soup.find_all(\"a\", \"authorName\")\n",
      "    for a in au:\n",
      "        authors.append({\"name\":a.text.strip(), \"url\":a.get(\"href\")})\n",
      "    return authors\n",
      "print getAuthors(seed)\n",
      "print getAuthors(other)\n",
      "print getAuthors(another)\n",
      "print getAuthors(yetanother)"
     ],
     "language": "python",
     "metadata": {},
     "outputs": [
      {
       "output_type": "stream",
       "stream": "stdout",
       "text": [
        "[{u'url': 'http://www.goodreads.com/author/show/1020792.Antoine_de_Saint_Exup_ry', u'name': u'Antoine de Saint-Exup\\xe9ry'}, {u'url': 'http://www.goodreads.com/author/show/6432545.T_V_F_Cuffe', u'name': u'T.V.F. Cuffe'}]\n",
        "[{u'url': 'http://www.goodreads.com/author/show/7163.Robert_Westall', u'name': u'Robert Westall'}]\n",
        "[{u'url': 'http://www.goodreads.com/author/show/8993.O_Henry', u'name': u'O. Henry'}]\n",
        "[{u'url': 'http://www.goodreads.com/author/show/231.Jean_Fritz', u'name': u'Jean Fritz'}, {u'url': 'http://www.goodreads.com/author/show/8725.Tomie_dePaola', u'name': u'Tomie dePaola'}]"
       ]
      },
      {
       "output_type": "stream",
       "stream": "stdout",
       "text": [
        "\n"
       ]
      }
     ],
     "prompt_number": 13
    },
    {
     "cell_type": "markdown",
     "metadata": {},
     "source": [
      "##Getting description"
     ]
    },
    {
     "cell_type": "code",
     "collapsed": false,
     "input": [
      "def getDescription(soup):\n",
      "    descs = soup.find(\"div\", attrs={\"id\":\"description\"}).find_all(\"span\")\n",
      "    if len(descs) == 1:\n",
      "        return descs[0].text.strip()\n",
      "    else:\n",
      "        return descs[1].text.strip()\n",
      "    \n",
      "print getDescription(seed)\n",
      "print ''\n",
      "print getDescription(other)\n",
      "print ''\n",
      "print getDescription(another)\n",
      "print ''\n",
      "print getDescription(yetanother)"
     ],
     "language": "python",
     "metadata": {},
     "outputs": [
      {
       "output_type": "stream",
       "stream": "stdout",
       "text": [
        "The Little Prince is the most translated book in the French language. With a timeless charm it tells the story of a little boy who leaves the safety of his own tiny planet to travel the universe, learning the vagaries of adult behavior through a series of extraordinary encounters. His personal odyssey culminates in a voyage to Earth and further adventures.  Letter to  a Hostage, which contains certain theme that were appear ini The Little Prince, is Saint-Exupery's optimistic and humane open letter to a Jewish intellectual hiding in occupied France in 1943\n",
        "\n",
        "Twelve-year-old Harry struggles to make it on his own after his family is lost in a German air raid. But as he and his dog companion journey along the northern English coast, there is never enough distance between them and the terrible war.\n",
        "\n",
        "Here are sixteen of the best stories by one of America's most popular storytellers. For nearly a century, the work of O. Henry has delighted readers with its humor, irony and colorful, real-life settings. The writer's own life had more than a touch of color and irony. Born William Sidney Porter in Greensboro, North Carolina in 1862, he worked on a Texas ranch, then as a bank teller in Austin, then as a reporter for the Houston \"Post.\" Adversity struck, however, when he was indicted for embezzlement of bank funds. Porter fled to New Orleans, then to Honduras before he was tried, convicted and imprisoned for the crime in 1898. In prison he began writing stories of Central America and the American Southwest that soon became popular with magazine readers. After his release Porter moved to New York City, where he continued writing stories under the pen name O.HenryThough his work earned him an avid readership, O. Henry died in poverty and oblivion scarcely eight years after his arrival in New York. But in the treasury of stories he left behind are such classics of the genre as \"The Gift of the Magi,\" \"The Last Leaf,\" \"The Ransom of Red Chief,\" \"The Voice of the City\" and \"The Cop and the Anthem\" \u2014 all included in this choice selection. A selection of the Common Core State Standards Initiative.\n",
        "\n",
        "This factual gem that's written with Jean Fritz's humorous touch chronicles the hot summer of 1787 where fifty-five delegates from thirteen states huddled together in the strictest secrecy in Philadelphia to draw up the constitution of the United States!\n"
       ]
      }
     ],
     "prompt_number": 14
    },
    {
     "cell_type": "markdown",
     "metadata": {},
     "source": [
      "##Getting average rating, number of ratings and number of reviews"
     ]
    },
    {
     "cell_type": "code",
     "collapsed": false,
     "input": [
      "def getNumbers(soup):\n",
      "    nums = {}\n",
      "    nums[\"average\"] = float(soup.find(\"span\", \"average\").text)\n",
      "    nums[\"ratings\"] = int(soup.find(\"span\", attrs={\"itemprop\":\"ratingCount\", \"class\":\"value-title\"}).get(\"title\"))\n",
      "    nums[\"reviews\"] = int(soup.find(\"span\", \"count\").find(\"span\").get(\"title\"))\n",
      "    return nums\n",
      "\n",
      "print getNumbers(seed)\n",
      "print getNumbers(other)\n",
      "print getNumbers(another)\n",
      "print getNumbers(yetanother)"
     ],
     "language": "python",
     "metadata": {},
     "outputs": [
      {
       "output_type": "stream",
       "stream": "stdout",
       "text": [
        "{u'reviews': 221, u'ratings': 4634, u'average': 4.46}\n",
        "{u'reviews': 21, u'ratings': 198, u'average': 4.02}\n",
        "{u'reviews': 120, u'ratings': 2764, u'average': 4.11}\n",
        "{u'reviews': 32, u'ratings': 254, u'average': 3.69}\n"
       ]
      }
     ],
     "prompt_number": 15
    },
    {
     "cell_type": "markdown",
     "metadata": {},
     "source": [
      "##Getting cover image URL"
     ]
    },
    {
     "cell_type": "code",
     "collapsed": false,
     "input": [
      "def getCoverPhotoURL(soup):\n",
      "    return soup.find(\"img\", attrs={\"id\":\"coverImage\"}).get(\"src\")\n",
      "print getCoverPhotoURL(seed)\n",
      "print getCoverPhotoURL(other)\n",
      "print getCoverPhotoURL(another)\n",
      "print getCoverPhotoURL(yetanother)\n",
      "display(Image(url=getCoverPhotoURL(seed)))\n",
      "display(Image(url=getCoverPhotoURL(other)))\n",
      "display(Image(url=getCoverPhotoURL(another)))\n",
      "display(Image(url=getCoverPhotoURL(yetanother)))"
     ],
     "language": "python",
     "metadata": {},
     "outputs": [
      {
       "output_type": "stream",
       "stream": "stdout",
       "text": [
        "http://d.gr-assets.com/books/1337132322l/3241368.jpg\n",
        "http://d.gr-assets.com/books/1170806161l/72212.jpg\n",
        "http://d.gr-assets.com/books/1371670064l/31626.jpg\n",
        "http://d.gr-assets.com/books/1311281895l/823068.jpg\n"
       ]
      },
      {
       "html": [
        "<img src=\"http://d.gr-assets.com/books/1337132322l/3241368.jpg\"/>"
       ],
       "metadata": {},
       "output_type": "display_data",
       "text": [
        "<IPython.core.display.Image at 0x59c8710>"
       ]
      },
      {
       "html": [
        "<img src=\"http://d.gr-assets.com/books/1170806161l/72212.jpg\"/>"
       ],
       "metadata": {},
       "output_type": "display_data",
       "text": [
        "<IPython.core.display.Image at 0x35b0630>"
       ]
      },
      {
       "html": [
        "<img src=\"http://d.gr-assets.com/books/1371670064l/31626.jpg\"/>"
       ],
       "metadata": {},
       "output_type": "display_data",
       "text": [
        "<IPython.core.display.Image at 0x202a1d0>"
       ]
      },
      {
       "html": [
        "<img src=\"http://d.gr-assets.com/books/1311281895l/823068.jpg\"/>"
       ],
       "metadata": {},
       "output_type": "display_data",
       "text": [
        "<IPython.core.display.Image at 0x59c85f8>"
       ]
      }
     ],
     "prompt_number": 21
    },
    {
     "cell_type": "markdown",
     "metadata": {},
     "source": [
      "##Getting user reviews (only first page)"
     ]
    },
    {
     "cell_type": "code",
     "collapsed": false,
     "input": [
      "def getReviews(soup):\n",
      "    revs = soup.find(\"div\", attrs={\"id\":\"reviews\"}).find_all(\"div\", \"friendReviews\")\n",
      "    reviews = []\n",
      "    for rev in revs:\n",
      "        review = {}\n",
      "        review[\"userURL\"] = 'http://www.goodreads.com' + rev.find(\"div\", \"review\").find(\"a\", \"user\").get(\"href\")\n",
      "        review[\"userName\"] = rev.find(\"div\", \"review\").find(\"a\", \"user\").text\n",
      "        review[\"userReviewDate\"] = rev.find(\"a\", \"reviewDate\").text\n",
      "        try:\n",
      "            textConts = rev.find(\"div\", \"reviewText\").find(\"span\", \"readable\").find_all(\"span\")\n",
      "            review[\"userReview\"] = textConts[-1].text.strip()\n",
      "        except:\n",
      "            continue\n",
      "        reviews.append(review)\n",
      "        \n",
      "    return reviews"
     ],
     "language": "python",
     "metadata": {},
     "outputs": [],
     "prompt_number": 76
    },
    {
     "cell_type": "code",
     "collapsed": false,
     "input": [
      "pp(getReviews(yetanother))"
     ],
     "language": "python",
     "metadata": {},
     "outputs": [
      {
       "output_type": "stream",
       "stream": "stdout",
       "text": [
        "[\n",
        "    {\n",
        "        \"userName\": \"Kiri\", \n",
        "        \"userReview\": \"This is a great little book (probably aimed at middle-school kids, but great reading even for adults) telling a short version of the story of the Constitutional Convention.  It is peppered with little tidbits about the delegates (like fishing habits or what they wrote home to their children) that give them personality and humanity.  Told in simple and straightforward language, it also hits on all of the hot-button topics that would ultimately lead to four months of deliberation and debate: state rights, representation, slavery, how to choose a president, etc.  I also gained a better sense of the important distinction between the terms \"national\" (a central government with power over the states) and \"federal\" (a government of an association of states that give up none of their individual rights).  The original Constitution never used the word \"national\" because it was so offensive to many of the delegates.  Our states therefore were joined into a federation, and not a nation, to create the United States of America.  Overall, an enjoyable and educational read.  The full text (and it's not very long) of the original Constitution is included at the end of the book. \"We the people\" never fails to inspire a little thrill of pride.\", \n",
        "        \"userReviewDate\": \"Sep 24, 2010\", \n",
        "        \"userURL\": \"http://www.goodreads.com/user/show/1849033-kiri\"\n",
        "    }, \n",
        "    {\n",
        "        \"userName\": \"Nancy\", \n",
        "        \"userReview\": \"Any book by Jean Fritz get my 5 star rating!  I have my students at the University read this book as an introduction to the time period. So historically accurate, so delightfully detailed, so short, so funny, so readable.\", \n",
        "        \"userReviewDate\": \"Nov 02, 2008\", \n",
        "        \"userURL\": \"http://www.goodreads.com/user/show/1545012-nancy\"\n",
        "    }, \n",
        "    {\n",
        "        \"userName\": \"Robert\", \n",
        "        \"userReview\": \"I think this would be an excellent book to read with my fourth graders.  So much so that I am now looking into electronic classroom wish lists so I can list the book.  I don't seem to be able to find enough copies used to make it worthwhile to purchase a class set.Fritz has a way of describing history well.  I really liked this book  Admittedly, I am a fan of the Revolutionary period and the Constitution specifically.  I do carry a copy in my breast pocket!Anyhow, this book pretty much describes the ending of the fourth grade social studies curriculum I teach.  Unfortunately, Fritz does not use the term New Jersey Plan to describe the part of the Great Compromise that create the balance in the Senate that we have.  The plan is described accurately, just not named so.One gains a pretty good feel for the struggle our forefathers had in crafting our government.  We learn of the different sides of terms like federal and national.  And we see how some were not in favor of a federal government preferring the states to remain sovereign (can you hear me, George Mason?).  If anyone would like to donate a copy of this book for my fourth graders to use, let me know and I will provide the particulars.  That is how much I enjoyed reading this!\", \n",
        "        \"userReviewDate\": \"Jul 01, 2012\", \n",
        "        \"userURL\": \"http://www.goodreads.com/user/show/1661541-robert\"\n",
        "    }, \n",
        "    {\n",
        "        \"userName\": \"Denise Krebs\", \n",
        "        \"userReview\": \"Again, Jean Fritz does such a good job of taking a dry subject and adding life. For instance, I learned that during a break from the Constitution Convention Oliver Ellsworth wrote a letter home about visiting an Egyptian mummy on display in Philadelphia and how he opened it up so he could see what the flesh was like. That is a horrific fact, but there are occasional such engagements for young readers. Details about the first July 4th parade and celebration in Philadelphia were great too!However, as I read this book, with all my background knowledge about the Constitution, I wasn't fully engaged on every page. I continue to realize how important passion and choice are for students. If a student is interested in government and specifically the U.S. Constitution, this book would be awesome. If not, it would be hard for a young person to sit through the whole book, which is only 44 pages.I also always love the pictures by Tomie dePaola.\", \n",
        "        \"userReviewDate\": \"Jul 05, 2012\", \n",
        "        \"userURL\": \"http://www.goodreads.com/user/show/4522949-denise-krebs\"\n",
        "    }, \n",
        "    {\n",
        "        \"userName\": \"Brooke\", \n",
        "        \"userReview\": \"BiographyIn fifth grade, we learned a great deal about the Revolutionary war. Then when we were done that unit, we went straight to the Civil War. We missed such an important part of American history! This book teaches us such key topics that I feel students should know, like how to pick a president, state rights, slavery, and representation. America had succeeded from England, then they had to write an entire constitution! This book is an easy way to explain to students what our founding fathers went through to make our country what it is today. It also eases the passage way from  the Revolutionary War to the Civil War, since they had to make some changes to the constitution after the civil war, for instance: abolishing slavery.\", \n",
        "        \"userReviewDate\": \"Apr 22, 2012\", \n",
        "        \"userURL\": \"http://www.goodreads.com/user/show/7521957-brooke\"\n",
        "    }, \n",
        "    {\n",
        "        \"userName\": \"Heather\", \n",
        "        \"userReview\": \"Hmmm, I thought I had written a big long review for this, but I guess I didn't.This was a solid introduction to the events leading up to the Convention as well as some of the debates that occurred.  My boys were able to understand the Virginia plan and why the smaller states had issues with some things.  The book briefly touched on the conflict between Northern and Southern states as well.It'd difficult to condense everything that was said and all the personalities into one book for children.  Fritz did a good job.  While I think this is a good choice, I will continue to try to find one I like better.  But I wouldn't hesitate to use this again.\", \n",
        "        \"userReviewDate\": \"Mar 10, 2011\", \n",
        "        \"userURL\": \"http://www.goodreads.com/user/show/1212796-heather\"\n",
        "    }, \n",
        "    {\n",
        "        \"userName\": \"Tracey\", \n",
        "        \"userReview\": \"\"Shh! We're Writing the Constitution\" should be a must read for every elementary school student! This book presents the summer of 1787 in a manner students can understand. Humor is thrown in, as well, to bring the Founding Fathers to life! I am considering the inclusion of this book into our classroom activities.  Any adult would find this book intriguing, too, especially if they don't know much about the Constitutional Convention. Pick up this book and read it! You can read it in less than an hour!\", \n",
        "        \"userReviewDate\": \"Oct 05, 2013\", \n",
        "        \"userURL\": \"http://www.goodreads.com/user/show/4127186-tracey\"\n",
        "    }, \n",
        "    {\n",
        "        \"userName\": \"Ruth\", \n",
        "        \"userReview\": \"A good story-based introduction to the constitution. It was a bit fact-heavy for a picture book, and it would have been nice if it was divided up into chapters; it was hard to find good stopping points. Some of this was over my seven year old's head, but she got the general idea that deciding on our country's firm of government was not an easy decision and it took a while for the delegates to agree.\", \n",
        "        \"userReviewDate\": \"Jan 24, 2012\", \n",
        "        \"userURL\": \"http://www.goodreads.com/user/show/833647-ruth\"\n",
        "    }, \n",
        "    {\n",
        "        \"userName\": \"Nicole\", \n",
        "        \"userReview\": \"Written in a way that students can understand the history that made up the United States.  This book is a little long, but if you pull out parts you need for lessons or have the book be optional for students to read it can be manageable.  I learned a lot and would definitely read this book again for a refesher on the Constitution and other historical events that shaped our country.\", \n",
        "        \"userReviewDate\": \"Apr 19, 2013\", \n",
        "        \"userURL\": \"http://www.goodreads.com/user/show/13230104-nicole\"\n",
        "    }, \n",
        "    {\n",
        "        \"userName\": \"Tye\", \n",
        "        \"userReview\": \"This was great for me as a refresher on the Constituion.\", \n",
        "        \"userReviewDate\": \"Jan 22, 2014\", \n",
        "        \"userURL\": \"http://www.goodreads.com/user/show/11446171-tye\"\n",
        "    }, \n",
        "    {\n",
        "        \"userName\": \"Laura\", \n",
        "        \"userReview\": \"This is a wonderful story to read to younger children about the creation of our country's constitution.  It covers all the basic problems our constitutional congress faced and the solutions they settled on.  It has very entertaining and helpful pictures as well! Grades 2 - 6.I love all of Jean Fritz's historical books!  I highly recommend them all!\", \n",
        "        \"userReviewDate\": \"Feb 03, 2011\", \n",
        "        \"userURL\": \"http://www.goodreads.com/user/show/875677-laura\"\n",
        "    }, \n",
        "    {\n",
        "        \"userName\": \"Carol\", \n",
        "        \"userReview\": \"I read this with my daughter, who is 8. I enjoyed it a lot. It was informative, funnny and had a lot of interesting trivia. Who knew Benjamin Franklin came to the convention in a Chinese sedan chair carried by four prisoners from a Philadelphia jail? I think I got more out of it than A did, though. Hopefully, she picked up some bits and pieces.\", \n",
        "        \"userReviewDate\": \"Mar 31, 2008\", \n",
        "        \"userURL\": \"http://www.goodreads.com/user/show/350705-carol\"\n",
        "    }, \n",
        "    {\n",
        "        \"userName\": \"Nicole Flores\", \n",
        "        \"userReview\": \"This is another one of Jean Fritz's wonderful stories. This is a historical fiction book about how hard it was to come up with this document and the importance of it. I would do this as a read aloud because it is a high level book but it is definitly important and it puts the writing of the constitution in perspective.\", \n",
        "        \"userReviewDate\": \"Apr 10, 2011\", \n",
        "        \"userURL\": \"http://www.goodreads.com/user/show/4203420-nicole-flores\"\n",
        "    }, \n",
        "    {\n",
        "        \"userName\": \"O2snowwhite\", \n",
        "        \"userReview\": \"I LOVE this book!  As with any of Fritz's books, you can tell that history is her passion.  It's a little long for younger kids, but packed full of awesome information, some of which is more trivial and less-known, but helps bring the \"characters\" to life.\", \n",
        "        \"userReviewDate\": \"Aug 01, 2011\", \n",
        "        \"userURL\": \"http://www.goodreads.com/user/show/1575474-o2snowwhite\"\n",
        "    }, \n",
        "    {\n",
        "        \"userName\": \"Etta Mcquade\", \n",
        "        \"userReview\": \"Jean Fritz, in her usual sense of humor, reveals the personalities of the various constitutional delegates, yet at the same time is able to show the great task that they had undertaken.  Excellent for grade school children.\", \n",
        "        \"userReviewDate\": \"Feb 13, 2010\", \n",
        "        \"userURL\": \"http://www.goodreads.com/user/show/3275419-etta-mcquade\"\n",
        "    }, \n",
        "    {\n",
        "        \"userName\": \"Mrs.Garcia\", \n",
        "        \"userReview\": \"Great information. Easy read, but I'll probably read portions to my class. Might be tough for my fourth graders to get through. I loved it, but it is not exactly high interest for them.\", \n",
        "        \"userReviewDate\": \"Jul 02, 2011\", \n",
        "        \"userURL\": \"http://www.goodreads.com/user/show/5658276-mrs-garcia\"\n",
        "    }, \n",
        "    {\n",
        "        \"userName\": \"Vicky\", \n",
        "        \"userReview\": \"I have enjoyed all of Jean Fritz's books, I think I know all about a person she has written about, but she has ALWAYS found some small bit of information that I find fascinating.\", \n",
        "        \"userReviewDate\": \"Apr 22, 2012\", \n",
        "        \"userURL\": \"http://www.goodreads.com/user/show/2903437-vicky\"\n",
        "    }, \n",
        "    {\n",
        "        \"userName\": \"Amy\", \n",
        "        \"userReview\": \"Post Revolution, of course, but we were on a Fritz kick and we couldn't stop!  Such interesting trivia sprinkled through this book - it makes the story really memorable.\", \n",
        "        \"userReviewDate\": \"May 30, 2013\", \n",
        "        \"userURL\": \"http://www.goodreads.com/user/show/7841913-amy\"\n",
        "    }, \n",
        "    {\n",
        "        \"userName\": \"Ethan\", \n",
        "        \"userReview\": \"I didn't really like this book because it was boring and I already knew most of the stuff they talked about. I did learn a little, though.\", \n",
        "        \"userReviewDate\": \"Apr 20, 2012\", \n",
        "        \"userURL\": \"http://www.goodreads.com/user/show/7584128-ethan\"\n",
        "    }, \n",
        "    {\n",
        "        \"userName\": \"Sharon\", \n",
        "        \"userReview\": \"Decent writ but I felt that many important details were left out so that some more humorous spots could be added.\", \n",
        "        \"userReviewDate\": \"Nov 11, 2011\", \n",
        "        \"userURL\": \"http://www.goodreads.com/user/show/3940819-sharon\"\n",
        "    }, \n",
        "    {\n",
        "        \"userName\": \"Jessica\", \n",
        "        \"userReview\": \"*Constitution**Bill of Rights**Constitutional Convention**Articles of Confederation**George Washington*\", \n",
        "        \"userReviewDate\": \"Apr 14, 2011\", \n",
        "        \"userURL\": \"http://www.goodreads.com/user/show/4193164-jessica\"\n",
        "    }, \n",
        "    {\n",
        "        \"userName\": \"Anibas\", \n",
        "        \"userReview\": \"I have to read this book while I am on vacation this week.  So far it is boring so my mom is going to read it with me.\", \n",
        "        \"userReviewDate\": \"Jun 06, 2008\", \n",
        "        \"userURL\": \"http://www.goodreads.com/user/show/1013529-anibas\"\n",
        "    }, \n",
        "    {\n",
        "        \"userName\": \"Joenna\", \n",
        "        \"userReview\": \"An in-depth look at the making of the Constitution.  Very informative and great for school reports!\", \n",
        "        \"userReviewDate\": \"Mar 11, 2008\", \n",
        "        \"userURL\": \"http://www.goodreads.com/user/show/52411-joenna\"\n",
        "    }, \n",
        "    {\n",
        "        \"userName\": \"Skye\", \n",
        "        \"userReview\": \"Lots of info about the constitution (and the actual constitution in the back).\", \n",
        "        \"userReviewDate\": \"Sep 21, 2011\", \n",
        "        \"userURL\": \"http://www.goodreads.com/user/show/1852772-skye\"\n",
        "    }, \n",
        "    {\n",
        "        \"userName\": \"Caren\", \n",
        "        \"userReview\": \"A perfect little book that explains the process to write up the Constition.\", \n",
        "        \"userReviewDate\": \"Jun 11, 2012\", \n",
        "        \"userURL\": \"http://www.goodreads.com/user/show/1790048-caren\"\n",
        "    }, \n",
        "    {\n",
        "        \"userName\": \"Sally\", \n",
        "        \"userReview\": \"Her autobiography about growing up in China looks interesting, too.\", \n",
        "        \"userReviewDate\": \"Sep 27, 2008\", \n",
        "        \"userURL\": \"http://www.goodreads.com/user/show/806278-sally\"\n",
        "    }, \n",
        "    {\n",
        "        \"userName\": \"Rachel\", \n",
        "        \"userReview\": \"Talks about how they wrote they constitution and the government.\", \n",
        "        \"userReviewDate\": \"Mar 10, 2011\", \n",
        "        \"userURL\": \"http://www.goodreads.com/user/show/4193199-rachel\"\n",
        "    }, \n",
        "    {\n",
        "        \"userName\": \"Tessa\", \n",
        "        \"userReview\": \"Fantastic!  A must read.\", \n",
        "        \"userReviewDate\": \"May 04, 2012\", \n",
        "        \"userURL\": \"http://www.goodreads.com/user/show/7342321-tessa\"\n",
        "    }, \n",
        "    {\n",
        "        \"userName\": \"John\", \n",
        "        \"userReview\": \"interesting details!!!\", \n",
        "        \"userReviewDate\": \"Jan 21, 2008\", \n",
        "        \"userURL\": \"http://www.goodreads.com/user/show/140121-john\"\n",
        "    }, \n",
        "    {\n",
        "        \"userName\": \"Jack\", \n",
        "        \"userReview\": \"I read it at school\", \n",
        "        \"userReviewDate\": \"Sep 30, 2011\", \n",
        "        \"userURL\": \"http://www.goodreads.com/user/show/6493772-jack\"\n",
        "    }\n",
        "]\n"
       ]
      }
     ],
     "prompt_number": 80
    },
    {
     "cell_type": "markdown",
     "metadata": {},
     "source": [
      "##Getting all links to other books"
     ]
    },
    {
     "cell_type": "code",
     "collapsed": false,
     "input": [
      "def getBookLinks(soup):\n",
      "    links = []\n",
      "    for link in soup.find_all(\"a\"):\n",
      "        l = link.get(\"href\")\n",
      "        if l:\n",
      "            if l.startswith(\"http://www.goodreads.com/book/show\"):\n",
      "                if l.find('?') > 0:\n",
      "                    l = l[:l.find('?')]\n",
      "                links.append(l)\n",
      "    return links            "
     ],
     "language": "python",
     "metadata": {},
     "outputs": [],
     "prompt_number": 105
    },
    {
     "cell_type": "code",
     "collapsed": false,
     "input": [
      "pp( getBookLinks(yetanother))"
     ],
     "language": "python",
     "metadata": {},
     "outputs": [
      {
       "output_type": "stream",
       "stream": "stdout",
       "text": [
        "[\n",
        "    \"http://www.goodreads.com/book/show/89964.Shh_we_re_writing_the_Constitution\", \n",
        "    \"http://www.goodreads.com/book/show/3986205-shh-we-re-writing-the-constitution\", \n",
        "    \"http://www.goodreads.com/book/show/581466.Shh_We_re_Writing_the_Constitution\", \n",
        "    \"http://www.goodreads.com/book/show/8172187-shh-we-re-writing-the-constitution\", \n",
        "    \"http://www.goodreads.com/book/show/7706095-shh-we-re-writing-the-constitution\", \n",
        "    \"http://www.goodreads.com/book/show/29819.The_Landing_of_the_Pilgrims\", \n",
        "    \"http://www.goodreads.com/book/show/89963.If_You_Were_There_When_They_Signed_The_Constitution\", \n",
        "    \"http://www.goodreads.com/book/show/227569.A_History_of_US\", \n",
        "    \"http://www.goodreads.com/book/show/4821.If_You_Sailed_On_The_Mayflower\", \n",
        "    \"http://www.goodreads.com/book/show/880161.Phoebe_the_Spy\", \n",
        "    \"http://www.goodreads.com/book/show/203411.Ben_Franklin\", \n",
        "    \"http://www.goodreads.com/book/show/6415223-before-columbus\", \n",
        "    \"http://www.goodreads.com/book/show/955192.We_the_Kids\", \n",
        "    \"http://www.goodreads.com/book/show/1357471.The_Thanksgiving_Story\", \n",
        "    \"http://www.goodreads.com/book/show/563098.George_Washington\", \n",
        "    \"http://www.goodreads.com/book/show/843454.World_War_II\", \n",
        "    \"http://www.goodreads.com/book/show/6471.Meet_George_Washington\", \n",
        "    \"http://www.goodreads.com/book/show/809507.Peter_the_Great\", \n",
        "    \"http://www.goodreads.com/book/show/470980.Sarah_Morton_s_Day\", \n",
        "    \"http://www.goodreads.com/book/show/244588.The_Boys_War\", \n",
        "    \"http://www.goodreads.com/book/show/823068.Shh_We_re_Writing_the_Constitution\", \n",
        "    \"http://www.goodreads.com/book/show/823068\", \n",
        "    \"http://www.goodreads.com/book/show/823068.Shh_We_re_Writing_the_Constitution\", \n",
        "    \"http://www.goodreads.com/book/show/823068.Shh_We_re_Writing_the_Constitution\", \n",
        "    \"http://www.goodreads.com/book/show/823068.Shh_We_re_Writing_the_Constitution\"\n",
        "]\n"
       ]
      }
     ],
     "prompt_number": 110
    }
   ],
   "metadata": {}
  }
 ]
}