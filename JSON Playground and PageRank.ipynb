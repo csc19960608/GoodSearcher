{
 "metadata": {
  "name": "",
  "signature": "sha256:28338cb0d0f0032d03b974d764b4d0bb1b8995d887c0d4fa7a1c9b1cce6913df"
 },
 "nbformat": 3,
 "nbformat_minor": 0,
 "worksheets": [
  {
   "cells": [
    {
     "cell_type": "code",
     "collapsed": false,
     "input": [
      "import numpy as np\n",
      "import scipy as sc\n",
      "import pandas as pd\n",
      "import json\n",
      "import blaze\n",
      "import os\n",
      "import glob\n",
      "from prettyprint import pp"
     ],
     "language": "python",
     "metadata": {},
     "outputs": [],
     "prompt_number": 8
    },
    {
     "cell_type": "code",
     "collapsed": true,
     "input": [
      "all_json_dirs = glob.glob('JSONs/*.json')"
     ],
     "language": "python",
     "metadata": {},
     "outputs": [],
     "prompt_number": 9
    },
    {
     "cell_type": "code",
     "collapsed": false,
     "input": [
      "all_jsons = []\n",
      "for jdir in all_json_dirs:\n",
      "    with open(jdir, 'r') as f:\n",
      "        jsn = json.load(f)\n",
      "        all_jsons.append(jsn)\n",
      "print len(all_jsons)"
     ],
     "language": "python",
     "metadata": {},
     "outputs": [
      {
       "output_type": "stream",
       "stream": "stdout",
       "text": [
        "473\n"
       ]
      }
     ],
     "prompt_number": 10
    },
    {
     "cell_type": "code",
     "collapsed": false,
     "input": [
      "links_set = set()\n",
      "for js in all_jsons:\n",
      "    links_set.add(js[\"url\"])\n",
      "    for l in js[\"outlinks\"]:\n",
      "        links_set.add(l)\n",
      "print len(links_set)\n",
      "links = list(links_set)"
     ],
     "language": "python",
     "metadata": {},
     "outputs": [
      {
       "output_type": "stream",
       "stream": "stdout",
       "text": [
        "7116\n"
       ]
      }
     ],
     "prompt_number": 11
    },
    {
     "cell_type": "code",
     "collapsed": false,
     "input": [
      "adjacency = np.zeros((len(links_set), len(links_set)))\n",
      "for js in all_jsons:\n",
      "    node_idx = links.index(js[\"url\"])\n",
      "    for l in js[\"outlinks\"]:\n",
      "        out_idx = links.index(l)\n",
      "        adjacency[node_idx, out_idx] += 1\n",
      "print np.sum(adjacency)"
     ],
     "language": "python",
     "metadata": {},
     "outputs": [
      {
       "output_type": "stream",
       "stream": "stdout",
       "text": [
        "12353.0\n"
       ]
      }
     ],
     "prompt_number": 12
    },
    {
     "cell_type": "code",
     "collapsed": false,
     "input": [
      "#normalize rows, so that no row is zero, also so that each row sums to unity. Then use teleporting constant to overcome deadends\n",
      "def normalizeMat(mat, teleporting = 0.2):\n",
      "    deadend_const = 1.0 / mat.shape[0]\n",
      "    for i in range(mat.shape[0]):\n",
      "        s = np.sum(mat[i,:])\n",
      "        if s == 0:\n",
      "            mat[i,:] = deadend_const\n",
      "        else:\n",
      "            mat[i,:] /= s\n",
      "        mat[i,:] = mat[i,:] * (1 - teleporting) + teleporting * deadend_const"
     ],
     "language": "python",
     "metadata": {},
     "outputs": [],
     "prompt_number": 13
    },
    {
     "cell_type": "code",
     "collapsed": false,
     "input": [
      "normalizeMat(adjacency)\n",
      "sw, sv = sc.sparse.linalg.eigs(adjacency.T, k=1, which='LR')\n",
      "print np.sum(sv), sw, np.linalg.norm(sv)\n",
      "print np.sum(adjacency)\n",
      "print sv\n",
      "sv = np.abs(sv)\n",
      "sv /= np.sum(sv)\n",
      "print np.abs(sv[sv.argmax()])[0], sv.argmax()\n",
      "print links[sv.argmax()]"
     ],
     "language": "python",
     "metadata": {},
     "outputs": [
      {
       "output_type": "stream",
       "stream": "stdout",
       "text": [
        "(83.9359749897+0j) [ 1.+0.j] 1.0\n",
        "7116.0"
       ]
      },
      {
       "output_type": "stream",
       "stream": "stdout",
       "text": [
        "\n",
        "[[ 0.01134906+0.j]\n",
        " [ 0.01146748+0.j]\n",
        " [ 0.01147920+0.j]\n",
        " ..., \n",
        " [ 0.01165242+0.j]\n",
        " [ 0.01210033+0.j]\n",
        " [ 0.01241785+0.j]]\n",
        "0.000422799247611 7021\n",
        "http://www.goodreads.com/book/show/1413465.Badger_in_the_Basement\n"
       ]
      }
     ],
     "prompt_number": 14
    },
    {
     "cell_type": "code",
     "collapsed": false,
     "input": [
      "rsv = np.abs(sv)\n",
      "print rsv.sum()\n",
      "rsv /= rsv.sum()\n",
      "print rsv.sum()\n",
      "print np.linalg.norm(rsv)"
     ],
     "language": "python",
     "metadata": {},
     "outputs": [
      {
       "output_type": "stream",
       "stream": "stdout",
       "text": [
        "1.0\n",
        "1.0\n",
        "0.0118544669604\n"
       ]
      }
     ],
     "prompt_number": 67
    },
    {
     "cell_type": "code",
     "collapsed": false,
     "input": [],
     "language": "python",
     "metadata": {},
     "outputs": []
    }
   ],
   "metadata": {}
  }
 ]
}